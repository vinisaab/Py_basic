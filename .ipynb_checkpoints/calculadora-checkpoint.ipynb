{
 "cells": [
  {
   "cell_type": "markdown",
   "metadata": {},
   "source": [
    "# Calculadora em Python"
   ]
  },
  {
   "cell_type": "code",
   "execution_count": 3,
   "metadata": {},
   "outputs": [],
   "source": [
    "##Criando operações com lambda\n",
    "\n",
    "soma = lambda x,y: x + y\n",
    "sub  = lambda x,y: x - y\n",
    "div  = lambda x,y: x / y\n",
    "mult = lambda x,y: x * y\n"
   ]
  },
  {
   "cell_type": "code",
   "execution_count": 15,
   "metadata": {},
   "outputs": [
    {
     "name": "stdout",
     "output_type": "stream",
     "text": [
      "delecione a operação desejada: \n",
      "1 - SOMA \n",
      "2 - SUB \n",
      "3 - DIV \n",
      "4 - MULT\n"
     ]
    },
    {
     "name": "stdin",
     "output_type": "stream",
     "text": [
      "Digite a operação:  8\n",
      "digite o primeiro numero:  10\n",
      "Digite o segundo numero:  10\n"
     ]
    },
    {
     "name": "stdout",
     "output_type": "stream",
     "text": [
      "operação não encontrada, selecione 1/2/3/4 e tente novamente!\n"
     ]
    },
    {
     "name": "stdin",
     "output_type": "stream",
     "text": [
      "Digite a operação:  02\n",
      "digite o primeiro numero:  10\n",
      "Digite o segundo numero:  10\n"
     ]
    },
    {
     "name": "stdout",
     "output_type": "stream",
     "text": [
      "operação não encontrada, selecione 1/2/3/4 e tente novamente!\n"
     ]
    },
    {
     "name": "stdin",
     "output_type": "stream",
     "text": [
      "Digite a operação:  2\n",
      "digite o primeiro numero:  10\n",
      "Digite o segundo numero:  10\n"
     ]
    },
    {
     "name": "stdout",
     "output_type": "stream",
     "text": [
      "0.0\n"
     ]
    }
   ],
   "source": [
    "def inputs():\n",
    "    op = input('Digite a operação: ')\n",
    "    n1 = input('digite o primeiro numero: ')\n",
    "    n2 = input('Digite o segundo numero: ')\n",
    "    \n",
    "    if op in ('1','2','3','4'):\n",
    "        calc(op,float(n1),float(n2))\n",
    "    else:\n",
    "        print('operação não encontrada, selecione 1/2/3/4 e tente novamente!')\n",
    "        inputs()\n",
    "    \n",
    "def calc(op,n1,n2):\n",
    "    if op == '1':\n",
    "        print(soma(n1,n2))\n",
    "    elif op == '2':\n",
    "        print(sub(n1,n2))\n",
    "    elif op == '3':\n",
    "        print(div(n1,n2))\n",
    "    elif op == '4':\n",
    "        print(mult(n1,n2))\n",
    "  \n",
    "        \n",
    "        \n",
    "def initCalc():\n",
    "    print('delecione a operação desejada: ')\n",
    "    print('1 - SOMA ')\n",
    "    print('2 - SUB ')\n",
    "    print('3 - DIV ')\n",
    "    print('4 - MULT')\n",
    "    \n",
    "    inputs()\n",
    "    \n",
    "initCalc()\n",
    "\n",
    "\n"
   ]
  },
  {
   "cell_type": "code",
   "execution_count": null,
   "metadata": {},
   "outputs": [],
   "source": []
  }
 ],
 "metadata": {
  "kernelspec": {
   "display_name": "Python 3",
   "language": "python",
   "name": "python3"
  },
  "language_info": {
   "codemirror_mode": {
    "name": "ipython",
    "version": 3
   },
   "file_extension": ".py",
   "mimetype": "text/x-python",
   "name": "python",
   "nbconvert_exporter": "python",
   "pygments_lexer": "ipython3",
   "version": "3.6.8"
  }
 },
 "nbformat": 4,
 "nbformat_minor": 4
}
